{
 "cells": [
  {
   "cell_type": "markdown",
   "metadata": {},
   "source": [
    "# CAMSv5.3\n",
    "This script is used to process CAMSv5.3 data using IPTpy."
   ]
  },
  {
   "cell_type": "code",
   "execution_count": null,
   "metadata": {},
   "outputs": [],
   "source": [
    "# import libraries\n",
    "import xarray as xr\n",
    "import numpy as np\n",
    "import IPTpy as ipt"
   ]
  },
  {
   "cell_type": "markdown",
   "metadata": {},
   "source": [
    "## Step1: Regrid from 0.1°x0.1° to 0.9°x1.25°"
   ]
  },
  {
   "cell_type": "code",
   "execution_count": null,
   "metadata": {},
   "outputs": [],
   "source": [
    "regrid_instance = iptpy.regrid(\n",
    "    input_path='/gws/nopw/j04/duicv/yuansun/dataset/CAMS/CAMS-GLOB-ANT_v5.3/',\n",
    "    output_path='/gws/nopw/j04/duicv/yuansun/IPT-py/tests/regrid/',\n",
    "    regridder_filename = '/gws/nopw/j04/duicv/yuansun/IPT-py/tests/regrid/test_cams_0.1x0.1_0.9x1.25_regridder.nc',\n",
    "    start_year=2018,\n",
    "    end_year=2018,\n",
    "    source='CAMS-GLOB-ANT'\n",
    ")\n",
    "regrid_instance.generate_regridder()\n",
    "regrid_instance.apply_regridder()"
   ]
  },
  {
   "cell_type": "markdown",
   "metadata": {},
   "source": [
    "## Step2: Rename regridded data"
   ]
  },
  {
   "cell_type": "code",
   "execution_count": null,
   "metadata": {},
   "outputs": [],
   "source": [
    "rename_instance = iptpy.rename(\n",
    "    input_path='/gws/nopw/j04/duicv/yuansun/IPT-py/tests/regrid/',\n",
    "    output_path='/gws/nopw/j04/duicv/yuansun/IPT-py/tests/rename/',\n",
    "    start_year=2018,\n",
    "    end_year=2018,\n",
    "    source='CAMS-GLOB-ANT',\n",
    ")\n",
    "rename_instance.rename()"
   ]
  }
 ],
 "metadata": {
  "language_info": {
   "name": "python"
  }
 },
 "nbformat": 4,
 "nbformat_minor": 2
}
