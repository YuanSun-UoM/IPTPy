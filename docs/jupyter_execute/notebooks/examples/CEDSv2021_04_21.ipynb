{
 "cells": [
  {
   "cell_type": "markdown",
   "metadata": {},
   "source": [
    "# CEDSv2021_04_21\n",
    "This script is used to process CEDSv2021_04_21 data using IPTpy."
   ]
  },
  {
   "cell_type": "code",
   "execution_count": null,
   "metadata": {},
   "outputs": [],
   "source": [
    "# import libraries\n",
    "import xarray as xr\n",
    "import numpy as np\n",
    "import IPTpy as ipt"
   ]
  },
  {
   "cell_type": "markdown",
   "metadata": {},
   "source": [
    "## Step1: Sum up the emissions from sectors"
   ]
  },
  {
   "cell_type": "code",
   "execution_count": null,
   "metadata": {},
   "outputs": [],
   "source": [
    "sum_instance = ipt.sum(\n",
    "    input_path='/gws/nopw/j04/duicv/yuansun/dataset/PNNL_DataHub/CEDS_gridded_data_2021-04-21/data/',\n",
    "    output_path='/gws/nopw/j04/duicv/yuansun/IPT-py/tests/sum/',\n",
    "    start_year=2000,\n",
    "    end_year=2000,\n",
    "    source='CEDS',\n",
    "    version='v2021-04-21',\n",
    "    timestep='monthly',\n",
    "    original_resolution='0.1x0.1',\n",
    "    target_resolution='0.9x1.25',\n",
    "    var_name='emiss_anthro'\n",
    ")\n",
    "sum_instance.sum_up()"
   ]
  },
  {
   "cell_type": "markdown",
   "metadata": {},
   "source": [
    "## Step2: Regrid from 0.1°x0.1° to 0.9°x1.25°"
   ]
  },
  {
   "cell_type": "code",
   "execution_count": null,
   "metadata": {},
   "outputs": [],
   "source": [
    "regrid_instance = ipt.regrid(\n",
    "    input_path='/gws/nopw/j04/duicv/yuansun/IPT-py/tests/sum/',\n",
    "    output_path='/gws/nopw/j04/duicv/yuansun/IPT-py/tests/regrid/',\n",
    "    regridder_filename = '/gws/nopw/j04/duicv/yuansun/IPT-py/tests/regrid/test_ceds_0.5x0.5_0.9x1.25_regridder.nc',\n",
    "    start_year=2000,\n",
    "    end_year=2000,\n",
    "    source='CEDS',\n",
    "    version='v2021-04-21',\n",
    "    timestep='monthly',\n",
    "    original_resolution='0.5x0.5',\n",
    "    target_resolution='0.9x1.25',\n",
    "    var_name='emiss_anthro'\n",
    ")\n",
    "regrid_instance.generate_regridder()\n",
    "regrid_instance.apply_regridder()"
   ]
  },
  {
   "cell_type": "markdown",
   "metadata": {},
   "source": [
    "## Step3: Rename regridded data"
   ]
  },
  {
   "cell_type": "code",
   "execution_count": null,
   "metadata": {},
   "outputs": [],
   "source": [
    "rename_instance = ipt.rename(\n",
    "    input_path='/gws/nopw/j04/duicv/yuansun/IPT-py/tests/regrid/',\n",
    "    output_path='/gws/nopw/j04/duicv/yuansun/IPT-py/tests/rename/',\n",
    "    start_year=2000,\n",
    "    end_year=2000,\n",
    "    source='CEDS'\n",
    ")\n",
    "rename_instance.rename()"
   ]
  }
 ],
 "metadata": {
  "language_info": {
   "name": "python"
  }
 },
 "nbformat": 4,
 "nbformat_minor": 2
}