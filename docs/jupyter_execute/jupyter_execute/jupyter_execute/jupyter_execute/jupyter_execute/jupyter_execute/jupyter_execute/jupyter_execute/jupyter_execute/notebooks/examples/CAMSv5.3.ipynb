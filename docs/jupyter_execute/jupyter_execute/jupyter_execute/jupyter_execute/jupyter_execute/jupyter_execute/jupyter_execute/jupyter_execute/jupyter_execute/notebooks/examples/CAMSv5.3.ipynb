{
 "cells": [
  {
   "cell_type": "markdown",
   "metadata": {},
   "source": [
    "# CAMSv5.3\n",
    "This script is used to ."
   ]
  },
  {
   "cell_type": "code",
   "execution_count": null,
   "metadata": {},
   "outputs": [],
   "source": [
    "import xarray as xr"
   ]
  }
 ],
 "metadata": {
  "language_info": {
   "name": "python"
  }
 },
 "nbformat": 4,
 "nbformat_minor": 2
}